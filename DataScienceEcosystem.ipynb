{
 "cells": [
  {
   "cell_type": "markdown",
   "id": "7227927e-3bee-4bf1-ab5b-1c850eded796",
   "metadata": {},
   "source": [
    "# Data Science Tools and Ecosystem"
   ]
  },
  {
   "cell_type": "markdown",
   "id": "ccf7c09b-f533-4da8-9698-3345fa43c5e3",
   "metadata": {},
   "source": [
    "In this notebook, Data Science Tools and Ecosystem are summarized."
   ]
  },
  {
   "cell_type": "markdown",
   "id": "a09cac5c-1f61-41fa-8457-97fa0f653e99",
   "metadata": {},
   "source": [
    "Some of the popular languages that Data Scientists use are:\n",
    "\n",
    "1. Phython\n",
    "2. R\n",
    "3. SQL"
   ]
  },
  {
   "cell_type": "markdown",
   "id": "da784bfd-d509-4523-ad2f-028021a3bc4a",
   "metadata": {},
   "source": [
    "Some of the commonly used libraries used by Data Scientists include:\n",
    "\n",
    "1. Pandas\n",
    "2. NumPy\n",
    "3. Scikit-learn"
   ]
  },
  {
   "cell_type": "markdown",
   "id": "64cabd42-3a3c-4d0a-8c00-6f3cc0711788",
   "metadata": {},
   "source": [
    "| Data Science Tools |\n",
    "| ------------------ |\n",
    "| JupyterLab         |\n",
    "| Jupyter Notebooks  |\n",
    "| VS Code            |"
   ]
  },
  {
   "cell_type": "markdown",
   "id": "2a1205f6-379b-4ac6-ab95-1c9373a8ac6b",
   "metadata": {},
   "source": [
    "### Below are a few examples of evaluating arithmetic expressions in Python"
   ]
  },
  {
   "cell_type": "code",
   "execution_count": 2,
   "id": "a13d5af7-f2be-4d9f-af6c-3a372d45c77c",
   "metadata": {},
   "outputs": [
    {
     "data": {
      "text/plain": [
       "17"
      ]
     },
     "execution_count": 2,
     "metadata": {},
     "output_type": "execute_result"
    }
   ],
   "source": [
    "# This a simple arithmetic expression to mutiply then add integers\n",
    "(3 * 4) + 5"
   ]
  },
  {
   "cell_type": "code",
   "execution_count": 8,
   "id": "a32541cd-699b-4b5e-aadc-76d077774c51",
   "metadata": {},
   "outputs": [
    {
     "data": {
      "text/plain": [
       "3.3333333333333335"
      ]
     },
     "execution_count": 8,
     "metadata": {},
     "output_type": "execute_result"
    }
   ],
   "source": [
    "# This will convert 200 minutes to hours by diving by 60\n",
    "200 / 60"
   ]
  },
  {
   "cell_type": "markdown",
   "id": "529a5feb-7db1-4a10-a3d5-0b24c9397985",
   "metadata": {},
   "source": [
    "__Objectives:__\n",
    "\n",
    "* List popular languages for Data Science\n",
    "* List commonly used libraries by Data Scientists\n",
    "* List some open source Data Science tools"
   ]
  },
  {
   "cell_type": "markdown",
   "id": "dd3b3772-965d-4c7c-8b04-8a4497fad7c4",
   "metadata": {},
   "source": [
    "## Author\n",
    "\n",
    "Mehdi Student"
   ]
  },
  {
   "cell_type": "code",
   "execution_count": null,
   "id": "06246f30-5570-4d40-9085-98fdcd807ecd",
   "metadata": {},
   "outputs": [],
   "source": []
  }
 ],
 "metadata": {
  "kernelspec": {
   "display_name": "Python 3 (ipykernel)",
   "language": "python",
   "name": "python3"
  },
  "language_info": {
   "codemirror_mode": {
    "name": "ipython",
    "version": 3
   },
   "file_extension": ".py",
   "mimetype": "text/x-python",
   "name": "python",
   "nbconvert_exporter": "python",
   "pygments_lexer": "ipython3",
   "version": "3.11.9"
  }
 },
 "nbformat": 4,
 "nbformat_minor": 5
}
